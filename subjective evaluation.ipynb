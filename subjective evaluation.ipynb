{
 "cells": [
  {
   "cell_type": "code",
   "execution_count": 1,
   "metadata": {},
   "outputs": [
    {
     "name": "stdout",
     "output_type": "stream",
     "text": [
      "The Question is: What have you learned in this NLP course, briefly explain it.\n",
      "Enter the number of keywords: 6\n",
      "Enter the keywords:\n",
      "Lexical syntax\n",
      "ICA\n",
      "Text summarization\n",
      "Machine Translation\n",
      "Chatbots\n",
      "POS tagging\n",
      "The Keywords are :  ['Lexical syntax', 'ICA', 'Text summarization', 'Machine Translation', 'Chatbots', 'POS tagging']\n",
      "Enter the sentence to evaluate: We have learnt about a lot of things in this course, I was very interested in Text summarization , Chatbots and POS tagging.\n",
      "Your Score is : 5.0/10\n"
     ]
    }
   ],
   "source": [
    "#questions = What have you learned in this NLP course, briefly explain it.\n",
    "keywords=[]\n",
    "print(\"The Question is: What have you learned in this NLP course, briefly explain it.\")\n",
    "n=int(input(\"Enter the number of keywords: \"))\n",
    "print(\"Enter the keywords:\")\n",
    "for i in range(n):\n",
    "    keywords.append(input())\n",
    "print(\"The Keywords are : \",keywords)\n",
    "answer = input(\"Enter the sentence to evaluate: \")\n",
    "score = 0\n",
    "for i in range(n):\n",
    "    if keywords[i] in answer:\n",
    "        score+=1\n",
    "score=(score/n)*10#dividing the value by n so that it lies 0-1 and calculating score out of 10.\n",
    "print(\"Your Score is : \"+str(score)+\"/10\")"
   ]
  },
  {
   "cell_type": "code",
   "execution_count": null,
   "metadata": {},
   "outputs": [],
   "source": []
  }
 ],
 "metadata": {
  "kernelspec": {
   "display_name": "Python 3",
   "language": "python",
   "name": "python3"
  },
  "language_info": {
   "codemirror_mode": {
    "name": "ipython",
    "version": 3
   },
   "file_extension": ".py",
   "mimetype": "text/x-python",
   "name": "python",
   "nbconvert_exporter": "python",
   "pygments_lexer": "ipython3",
   "version": "3.7.4"
  }
 },
 "nbformat": 4,
 "nbformat_minor": 2
}
