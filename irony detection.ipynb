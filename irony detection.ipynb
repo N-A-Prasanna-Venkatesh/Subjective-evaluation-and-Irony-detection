{
 "cells": [
  {
   "cell_type": "code",
   "execution_count": 4,
   "metadata": {},
   "outputs": [
    {
     "name": "stdout",
     "output_type": "stream",
     "text": [
      "Enter the sentence to detect the sarcasm: Ram asked Rahul, where to keep the books, and Rahul replied sarcastically as keep that thing on my head.\n",
      "\n",
      "Sarcasm found, sarcasm is: keep that thing on my head\n"
     ]
    }
   ],
   "source": [
    "corpus=[\"sit on my head\",\"keep that thing on my head\",\"they're really on top of things\",\"marriage counselor files for divorce\"]\n",
    "#the above corpus can be added continously\n",
    "sente = input(\"Enter the sentence to detect the sarcasm: \")\n",
    "flag=0\n",
    "print()\n",
    "for i in corpus:\n",
    "    if i in sente:\n",
    "        print(\"Sarcasm found, sarcasm is: \"+i)\n",
    "        flag=1\n",
    "        break\n",
    "if flag==0:\n",
    "    print(\"No sarcasm found\")"
   ]
  },
  {
   "cell_type": "code",
   "execution_count": null,
   "metadata": {},
   "outputs": [],
   "source": []
  }
 ],
 "metadata": {
  "kernelspec": {
   "display_name": "Python 3",
   "language": "python",
   "name": "python3"
  },
  "language_info": {
   "codemirror_mode": {
    "name": "ipython",
    "version": 3
   },
   "file_extension": ".py",
   "mimetype": "text/x-python",
   "name": "python",
   "nbconvert_exporter": "python",
   "pygments_lexer": "ipython3",
   "version": "3.7.4"
  }
 },
 "nbformat": 4,
 "nbformat_minor": 2
}
